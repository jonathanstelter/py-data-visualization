{
 "cells": [
  {
   "cell_type": "code",
   "execution_count": null,
   "id": "1f117370",
   "metadata": {},
   "outputs": [],
   "source": [
    "# For Google Colab (other requirements should be fine, but can be found in requirements.txt)\n",
    "!pip install plotly==4.14.3\n",
    "from google.colab import drive\n",
    "drive.mount('/content/drive')\n",
    "\n",
    "# Set sys path\n",
    "import sys\n",
    "dir_location = '/content/drive/MyDrive/py_data_visualization' # TODO: Specify here the path of the repository\n",
    "sys.path.append(dir_location)"
   ]
  },
  {
   "cell_type": "code",
   "execution_count": null,
   "id": "d291589e",
   "metadata": {},
   "outputs": [],
   "source": [
    "# We need those packages for all tasks\n",
    "import pandas as pd\n",
    "import numpy as np\n",
    "import pickle\n",
    "from core.validation import check"
   ]
  },
  {
   "cell_type": "markdown",
   "id": "011a05cf",
   "metadata": {},
   "source": [
    "#  Data visualization with Python"
   ]
  },
  {
   "cell_type": "markdown",
   "id": "11c1738a",
   "metadata": {},
   "source": [
    "A participant of this year's Hüttenseminar has forgotton to evaluate his phantom measurements and to prepare for the next presentation about cryptocurrency. \n",
    "Can you help to solve his tasks such that the participant can join the games night?"
   ]
  },
  {
   "cell_type": "markdown",
   "id": "b1a9c923",
   "metadata": {},
   "source": [
    "## Task 1: Classic plotting with Matplotlib\n",
    "\n",
    "Matplotlib is probably the standard visualization tool in Python and can be used by beginners or experienced professionals.\n",
    "\n",
    "- High amount of flexibility\n",
    "- Pyplot interface is similar to MATLAB programming\n",
    "- Graphs are of publication quality"
   ]
  },
  {
   "cell_type": "markdown",
   "id": "78772a9b",
   "metadata": {},
   "source": [
    "### Proton-Density Fat Fraction (PDFF) and slice visualization\n",
    "\n",
    "We would like to visualize the measured fat fraction for a single slice. We can therefore use the `imshow` function from matplotlib.\n",
    "\n",
    "<b>Question: Which vial is placed directly next to the 40(-50)% FF vial?</b>\n",
    "\n",
    "<b>a) 20 %</b>\n",
    "<b>b) 60 %</b>"
   ]
  },
  {
   "cell_type": "code",
   "execution_count": null,
   "id": "6013fa42",
   "metadata": {},
   "outputs": [],
   "source": [
    "# Data loading\n",
    "with open(f'{dir_location}/data/fat_fraction.pickle', 'rb') as file:\n",
    "    img = pickle.load(file)\n",
    "print(img.shape)"
   ]
  },
  {
   "cell_type": "code",
   "execution_count": null,
   "id": "505d67bf",
   "metadata": {},
   "outputs": [],
   "source": [
    "# Import matplotlib and set default values\n",
    "# Matplotlib also has an interactive mode, but it is not available in Google Colab\n",
    "import matplotlib.pyplot as plt\n",
    "%matplotlib inline\n",
    "colormap = 'inferno' # We are using the BMRR's corporate colormap for PDFF\n",
    "lim = [-5, 100]\n",
    "\n",
    "### TODO: Display the data (img) as an image\n",
    "#\n",
    "#\n",
    "#\n",
    "###\n",
    "\n",
    "ax.set_title('PDFF (%)')\n",
    "plt.colorbar(im, ax=ax)\n",
    "plt.show()"
   ]
  },
  {
   "cell_type": "markdown",
   "id": "0862a7b6",
   "metadata": {},
   "source": [
    "## Task 2: Beautiful visualization with Seaborn"
   ]
  },
  {
   "cell_type": "markdown",
   "id": "5efae9b1",
   "metadata": {},
   "source": [
    "Seaborn is built on top of matplotlib and simplifies the interface for plotting.\n",
    "\n",
    "- Data visualization with less code\n",
    "- Supports many advanced plots (swarm plot, categorical plotting, distribution plotting, relational plotting)"
   ]
  },
  {
   "cell_type": "markdown",
   "id": "e7b86cc1",
   "metadata": {},
   "source": [
    "### Phantom homogeneity\n",
    "\n",
    "Next, we are interested in the homogeneity of the measured phantom. We can evaluate the homogeneity based on a kernel density estimate using the `boxplot`/`violinplot` of seaborn.\n",
    "\n",
    "<b>Question: Which vial is the most homogenous?</b>\n",
    "\n",
    "<b>a) 0 %</b>\n",
    "<b>b) 20 %</b>\n",
    "<b>c) 60 %</b>"
   ]
  },
  {
   "cell_type": "code",
   "execution_count": null,
   "id": "844c0279",
   "metadata": {},
   "outputs": [],
   "source": [
    "# We use a 10x10 pixel ROI\n",
    "centers = []\n",
    "# The center for each vial\n",
    "centers.append(([175, 181], 60))\n",
    "centers.append(([119, 154], 40))\n",
    "centers.append(([120, 127], 20))\n",
    "centers.append(([174, 99], 0))\n",
    "\n",
    "# Constructing the pandas DataFrame\n",
    "size = 5\n",
    "values = np.array([])\n",
    "labels = np.array([])\n",
    "for center in centers:\n",
    "    x, y = center[0]\n",
    "    values_label = img[x-size:x+size, y-size:y+size].flatten()\n",
    "    labels = np.concatenate((labels, np.ones_like(values_label)*center[1]))\n",
    "    values = np.concatenate((values, values_label))\n",
    "    \n",
    "df = pd.DataFrame({\"Measured PDFF (%)\": values, \"Expected PDFF (%)\": labels})\n",
    "print(df)"
   ]
  },
  {
   "cell_type": "code",
   "execution_count": null,
   "id": "bf29b753",
   "metadata": {},
   "outputs": [],
   "source": [
    "import seaborn as sns\n",
    "import matplotlib.pyplot as plt\n",
    "fig = plt.figure(figsize=(5,5))\n",
    "\n",
    "### TODO: Visualize the homogeneity for each vial/ROI\n",
    "#\n",
    "#\n",
    "#\n",
    "###\n",
    "\n",
    "plt.show()"
   ]
  },
  {
   "cell_type": "markdown",
   "id": "d94dea2c",
   "metadata": {},
   "source": [
    "## Task 3: Modern and interactive plotting with Plotly"
   ]
  },
  {
   "cell_type": "markdown",
   "id": "47c67742",
   "metadata": {},
   "source": [
    "Plotly is a graphing library for interactive and publication-quality graphs.\n",
    "- Interactive plotting for Jupyter Notebook and Web Browsers\n",
    "- Supports a wide range of plots\n",
    "- Allows storytelling by animations"
   ]
  },
  {
   "cell_type": "markdown",
   "id": "de065aba",
   "metadata": {},
   "source": [
    "### Simple image viewer\n",
    "\n",
    "Something went wrong with the DICOM export! A colleague said that for one specific echo time and slice, the image is wrong (no signal at all). Now, we need to find this slice.\n",
    "\n",
    "We can build a simple animated image viewer using the `imshow` function from plotly. \n",
    "\n",
    "<b>Question: Which is the echo and slice number for the wrong image?</b>\n",
    "\n",
    "The first answer is the echo number and the second answer is the slice number (animation_frame)."
   ]
  },
  {
   "cell_type": "code",
   "execution_count": null,
   "id": "4ffac83b",
   "metadata": {},
   "outputs": [],
   "source": [
    "# Data loading\n",
    "with open(f'{dir_location}/data/signal.pickle', 'rb') as file:\n",
    "    sig = pickle.load(file)\n",
    "print(sig.shape) # (n_rows, n_columns, n_slices, n_echoes)"
   ]
  },
  {
   "cell_type": "code",
   "execution_count": null,
   "id": "3f3944f4",
   "metadata": {},
   "outputs": [],
   "source": [
    "import plotly.express as px\n",
    "\n",
    "### TODO: Implement a simple image viewer\n",
    "#\n",
    "#\n",
    "#\n",
    "###\n",
    "\n",
    "fig.for_each_annotation(lambda a: a.update(text=f'Echo: {int(a.text.split(\"=\")[1])+1}')) # Change the text for each column\n",
    "fig.show()"
   ]
  },
  {
   "cell_type": "markdown",
   "id": "9b3fa9cf",
   "metadata": {},
   "source": [
    "## Task 4: Interactive and flexible plotting with Bokeh"
   ]
  },
  {
   "cell_type": "markdown",
   "id": "29b10341",
   "metadata": {},
   "source": [
    "Bokeh is a data visualization library for modern web interfaces.\n",
    "\n",
    "- Interactive visualizations without writing any JavaScript\n",
    "- Supports many unique visualizations (i.e. geospatial plots, network graphs)\n",
    "- Easy to link plots"
   ]
  },
  {
   "cell_type": "markdown",
   "id": "0866755b",
   "metadata": {},
   "source": [
    "### Bitcoin and Ethereum \n",
    "\n",
    "Finally, all tasks related to the phantom are solved. Let's prepare for the next presentation. We would like to  interactively visualize the price for Bitcoin and Ethereum using the line plot from Bokeh.\n",
    "\n",
    "<b>Question: What was the price for Ethereum for the day when Bitcoin had its heighest value?</b>\n",
    "\n",
    "<b>a) 2.300 USD</b>\n",
    "<b>b) 4.080 USD</b>\n",
    "<b>c) 2.000 USD</b>\n",
    "<b>d) 1.600 USD</b>"
   ]
  },
  {
   "cell_type": "code",
   "execution_count": null,
   "id": "5e5088f4",
   "metadata": {},
   "outputs": [],
   "source": [
    "df_BTC=pd.read_csv(f'{dir_location}/data/BTC-USD.csv', sep=',')\n",
    "df_ETH=pd.read_csv(f'{dir_location}/data/ETH-USD.csv', sep=',')\n",
    "df_BTC"
   ]
  },
  {
   "cell_type": "code",
   "execution_count": null,
   "id": "d6f1d2b3",
   "metadata": {},
   "outputs": [],
   "source": [
    "# Simple plot using matplotlib and pandas\n",
    "df_BTC.drop(['Volume'], axis=1).plot.line()"
   ]
  },
  {
   "cell_type": "code",
   "execution_count": null,
   "id": "b962aa47",
   "metadata": {},
   "outputs": [],
   "source": [
    "from bokeh.plotting import figure, show\n",
    "from bokeh.models.tools import HoverTool\n",
    "from bokeh.io import output_notebook\n",
    "output_notebook() # generate output in notebook cells \n",
    "\n",
    "### TODO: create a new plot with a title and axis labels and \n",
    "# add line renderer to the plot\n",
    "#\n",
    "#\n",
    "#\n",
    "###\n",
    "\n",
    "# add an interactive inspector tool\n",
    "hover = HoverTool(\n",
    "    tooltips = [\n",
    "        (\"Date\", \"@x{%F}\"),\n",
    "        (\"Value\", \"@y\")\n",
    "    ], \n",
    "    formatters={\"@x\":\"datetime\"},\n",
    "    mode='vline'\n",
    ")\n",
    "p.add_tools(hover)"
   ]
  },
  {
   "cell_type": "code",
   "execution_count": null,
   "id": "31e2f6b3",
   "metadata": {},
   "outputs": [],
   "source": [
    "show(p)"
   ]
  },
  {
   "cell_type": "markdown",
   "id": "6c994d27",
   "metadata": {},
   "source": [
    "## Task 5: Declarative visualization with Altair"
   ]
  },
  {
   "cell_type": "markdown",
   "id": "1c202baa",
   "metadata": {},
   "source": [
    "Altair is a tool designed for visualization with a minimum amount of code.\n",
    "- Data visualization with less code\n",
    "- Easy to link plots"
   ]
  },
  {
   "cell_type": "markdown",
   "id": "cc580216",
   "metadata": {},
   "source": [
    "### Craft beers\n",
    "\n",
    "Games night! But we want to choose a special beer. We are therefore using two linked plot to visualize different parameters for our beer selection. Only US craft beers are available. We need to add an interactive `scatter` plot from Altair.\n",
    "\n",
    "<b>Question: We are interested in a beer from the US state with the highest count of breweries. What is the beer with the highest amount of bitterness (highest ibu)? If there are several beers, you should choose the beer with the highest amount of alcohol (abv).</b>\n",
    "\n",
    "The answer is the first letter of the beer's name (lower case)."
   ]
  },
  {
   "cell_type": "code",
   "execution_count": null,
   "id": "f36abcd7",
   "metadata": {},
   "outputs": [],
   "source": [
    "df_beers=pd.read_csv(f'{dir_location}/data/beers.csv', sep=',', index_col=0)\n",
    "df_breweries=pd.read_csv(f'{dir_location}/data/breweries.csv', sep=',', index_col=0)\n",
    "\n",
    "# drop missing values\n",
    "df_beers = df_beers.dropna(subset=['abv', 'ibu', 'style'])\n",
    "# add state information to each beer\n",
    "df_beers['state'] = df_breweries.iloc[df_beers.brewery_id.values].state.values\n",
    "df_beers"
   ]
  },
  {
   "cell_type": "code",
   "execution_count": null,
   "id": "2a94ecfd",
   "metadata": {
    "scrolled": false
   },
   "outputs": [],
   "source": [
    "import altair as alt\n",
    "selection = alt.selection_single(encodings=['x'])\n",
    "\n",
    "### TODO: Add an interactive scatter plot. A 'tooltip' showing the beer's name would be useful\n",
    "#\n",
    "#\n",
    "#\n",
    "###\n",
    "\n",
    "bar = alt.Chart(df_beers).transform_aggregate(\n",
    "    count='count()',\n",
    "    groupby=['state']\n",
    ").mark_bar().encode(\n",
    "    x='state:O',\n",
    "    y='count:Q',\n",
    "    color=alt.condition(selection, alt.value('steelblue'), alt.value('lightgray')) # The color is chosen based on the selection\n",
    ").add_selection(\n",
    "    selection\n",
    ")\n",
    "\n",
    "bar\n",
    "#scatter | bar"
   ]
  },
  {
   "cell_type": "markdown",
   "id": "a9ceba2d",
   "metadata": {},
   "source": [
    "## Final Task: Are you a python data visualization expert?\n",
    "\n",
    "Now, you need to combine the answers from each task. \n",
    "For example:\n",
    "\n",
    "Task 1: c <br>\n",
    "Task 2: e <br>\n",
    "Task 3: 5, 60 <br>\n",
    "Task 4: e <br>\n",
    "Task 5: z <br>\n",
    " --> ce560ez"
   ]
  },
  {
   "cell_type": "code",
   "execution_count": null,
   "id": "264b087f",
   "metadata": {
    "scrolled": true
   },
   "outputs": [],
   "source": [
    "check(your_answer='ce560ez')"
   ]
  },
  {
   "cell_type": "code",
   "execution_count": null,
   "id": "7a37f66d",
   "metadata": {},
   "outputs": [],
   "source": []
  }
 ],
 "metadata": {
  "kernelspec": {
   "display_name": "Python 3",
   "language": "python",
   "name": "python3"
  },
  "language_info": {
   "codemirror_mode": {
    "name": "ipython",
    "version": 3
   },
   "file_extension": ".py",
   "mimetype": "text/x-python",
   "name": "python",
   "nbconvert_exporter": "python",
   "pygments_lexer": "ipython3",
   "version": "3.8.0"
  }
 },
 "nbformat": 4,
 "nbformat_minor": 5
}
